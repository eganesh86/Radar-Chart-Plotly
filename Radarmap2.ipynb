{
 "cells": [
  {
   "cell_type": "code",
   "execution_count": 93,
   "id": "135ce763",
   "metadata": {},
   "outputs": [],
   "source": [
    "import numpy as np\n",
    "import pandas as pd\n",
    "\n",
    "import plotly.graph_objects as go\n",
    "import plotly.offline as pyo\n",
    "from plotly.validators.scatter.marker import SymbolValidator\n",
    "from sklearn.metrics import r2_score\n",
    "import math"
   ]
  },
  {
   "cell_type": "code",
   "execution_count": 116,
   "id": "f9be17a9",
   "metadata": {},
   "outputs": [
    {
     "data": {
      "text/plain": [
       "'temp-plot.html'"
      ]
     },
     "execution_count": 116,
     "metadata": {},
     "output_type": "execute_result"
    }
   ],
   "source": [
    "categories = ['a', 'b', 'c', 'd', 'e', 'f', 'g', 'h', 'i', 'j']\n",
    "categories = [*categories, categories[0]]\n",
    "\n",
    "mean = [0.180346325,0.188197536,0.239305949,0.17842412,0.164181909,0.21047479,0.161526189,0.207744467,0.200128678,0.176860744,0.180346325]\n",
    "std1 = [0.212359581,0.237139965,0.2414,0.212497576,0.183188257,0.252836308,0.177302273,0.24850738,0.232901545,0.197611874,0.212359581]\n",
    "std2 = [0.148333068,0.139255107,0.237211899,0.144350664,0.145175561,0.168113273,0.145750105,0.166981554,0.167355812,0.156109614,0.148333068]\n",
    "mean = [*mean, mean[0]]\n",
    "std1 = [*std1, std1[0]]\n",
    "std2 = [*std2, std2[0]]\n",
    "\n",
    "\n",
    "\n",
    "fig = go.Figure(\n",
    "    data=[\n",
    "        \n",
    "        go.Scatterpolar(r=std1, theta=categories, fill = 'tonext', name='+std', fillcolor='white', opacity = 0.6, \n",
    "                        line=dict(color='red', dash='dash', width = 5),\n",
    "                        marker=dict(size=15)),\n",
    "        \n",
    "                                     \n",
    "        go.Scatterpolar(r=mean, theta=categories, fill = 'tonext', name='Mean', fillcolor='red', opacity = 0.6,\n",
    "                        line=dict(color='blue', width = 10),\n",
    "                        marker=dict(size=20)),\n",
    "        go.Scatterpolar(r=std2, theta=categories, fill = 'tonext', name='-std', fillcolor='red', opacity = 0.3, \n",
    "                        line=dict(color='red', dash='dash', width = 5),\n",
    "                        marker=dict(size=15)),\n",
    "    ],\n",
    "    layout=go.Layout(\n",
    "        title=go.layout.Title(text='0.002 mAcm-2'),\n",
    "        polar = dict(\n",
    "        radialaxis = dict(range=[0.35, 0.1], tick0=0.35, dtick=0.1, showticklabels=True, ticks='outside', tickfont=dict(size=46)),\n",
    "        angularaxis = dict(showticklabels=True, ticks='inside', tickfont=dict(size=66))\n",
    "    )\n",
    "    )\n",
    ")\n",
    "\n",
    "fig.update_polars(radialaxis_gridcolor=\"black\")\n",
    "fig.update_polars(angularaxis_gridcolor=\"black\")\n",
    "fig.update_polars(angularaxis_linecolor='black')\n",
    "fig.update_polars(radialaxis_linecolor='black')\n",
    "fig.update_polars(angularaxis_direction='clockwise')\n",
    "fig.update_polars(radialaxis_tickfont_family=\"Arial\")\n",
    "fig.update_polars(angularaxis_tickfont_family=\"Arial\")\n",
    "fig.update_polars(radialaxis_tickfont_color=\"black\")\n",
    "fig.update_polars(angularaxis_tickfont_color=\"black\")\n",
    "pyo.plot(fig)"
   ]
  },
  {
   "cell_type": "code",
   "execution_count": 112,
   "id": "3a8e9f95",
   "metadata": {},
   "outputs": [
    {
     "data": {
      "text/plain": [
       "'temp-plot.html'"
      ]
     },
     "execution_count": 112,
     "metadata": {},
     "output_type": "execute_result"
    }
   ],
   "source": [
    "categories = ['a', 'b', 'c', 'd', 'e', 'f', 'g', 'h', 'i', 'j']\n",
    "categories = [*categories, categories[0]]\n",
    "\n",
    "mean = [0.264331431,0.26536047,0.26130064,0.262917354,0.266572473,0.261281704,0.244333768,0.262913803,0.263680362,0.251697503,0.264331431]\n",
    "std1 = [0.265373273,0.272514936,0.262232546,0.264433622,0.26817211,0.263413958,0.2479679003,0.267073788,0.266165678,0.255508444,0.265373273]\n",
    "std2 = [0.263289588,0.258206004,0.260368734,0.261401086,0.264972836,0.25914945,0.2408988533,0.258753818,0.261195046,0.247886561,0.263289588]\n",
    "mean = [*mean, mean[0]]\n",
    "std1 = [*std1, std1[0]]\n",
    "std2 = [*std2, std2[0]]\n",
    "\n",
    "fig = go.Figure(\n",
    "    data=[\n",
    "        \n",
    "       go.Scatterpolar(r=std1, theta=categories, fill = 'tonext', name='+std', fillcolor='white', opacity = 0.6, \n",
    "                        line=dict(color='red', dash='dash', width = 5),\n",
    "                        marker=dict(size=15)),\n",
    "        \n",
    "                                     \n",
    "        go.Scatterpolar(r=mean, theta=categories, fill = 'tonext', name='Mean', fillcolor='red', opacity = 0.6,\n",
    "                        line=dict(color='blue', width = 10),\n",
    "                        marker=dict(size=20)),\n",
    "        go.Scatterpolar(r=std2, theta=categories, fill = 'tonext', name='-std', fillcolor='red', opacity = 0.3, \n",
    "                        line=dict(color='red', dash='dash', width = 5),\n",
    "                        marker=dict(size=15)),\n",
    "    ],\n",
    "    layout=go.Layout(\n",
    "        title=go.layout.Title(text='0.007 mAcm-2'),\n",
    "        polar = dict(\n",
    "        radialaxis = dict(range=[0.35, 0.2], tick0=0.1, dtick=0.05, showticklabels=True, ticks='outside', tickfont=dict(size=46)),\n",
    "        angularaxis = dict(showticklabels=True, ticks='inside', tickfont=dict(size=66))\n",
    "    )\n",
    "    )\n",
    ")\n",
    "fig.update_polars(radialaxis_gridcolor=\"black\")\n",
    "fig.update_polars(angularaxis_gridcolor=\"black\")\n",
    "fig.update_polars(angularaxis_linecolor='black')\n",
    "fig.update_polars(radialaxis_linecolor='black')\n",
    "fig.update_polars(angularaxis_direction='clockwise')\n",
    "fig.update_polars(radialaxis_tickfont_family=\"Arial\")\n",
    "fig.update_polars(angularaxis_tickfont_family=\"Arial\")\n",
    "fig.update_polars(radialaxis_tickfont_color=\"black\")\n",
    "fig.update_polars(angularaxis_tickfont_color=\"black\")\n",
    "pyo.plot(fig)"
   ]
  },
  {
   "cell_type": "code",
   "execution_count": 113,
   "id": "50f32ef0",
   "metadata": {},
   "outputs": [
    {
     "data": {
      "text/plain": [
       "'temp-plot.html'"
      ]
     },
     "execution_count": 113,
     "metadata": {},
     "output_type": "execute_result"
    }
   ],
   "source": [
    "categories = ['a', 'b', 'c', 'd', 'e', 'f', 'g', 'h', 'i', 'j']\n",
    "categories = [*categories, categories[0]]\n",
    "\n",
    "mean = [0.32561213,0.317986917,0.320652649,0.323371732,0.327828325,0.318979919,0.324734648,0.318787325,0.323298083,0.321210559,0.32561213]\n",
    "std1 = [0.326529007,0.320318066,0.322170153,0.325386591,0.329941752,0.321150702,0.326297584,0.322523099,0.326557595,0.32393125,0.326529007]\n",
    "std2 = [0.324695254,0.315655768,0.319135146,0.321356872,0.325714898,0.316809137,0.323171711,0.315051551,0.32003857,0.318489868,0.324695254]\n",
    "mean = [*mean, mean[0]]\n",
    "std1 = [*std1, std1[0]]\n",
    "std2 = [*std2, std2[0]]\n",
    "\n",
    "fig = go.Figure(\n",
    "    data=[\n",
    "        \n",
    "        go.Scatterpolar(r=std1, theta=categories, fill = 'tonext', name='+std', fillcolor='white', opacity = 0.6, \n",
    "                        line=dict(color='red', dash='dash', width = 5),\n",
    "                        marker=dict(size=15)),\n",
    "        \n",
    "                                     \n",
    "        go.Scatterpolar(r=mean, theta=categories, fill = 'tonext', name='Mean', fillcolor='red', opacity = 0.6,\n",
    "                        line=dict(color='blue', width = 10),\n",
    "                        marker=dict(size=20)),\n",
    "        go.Scatterpolar(r=std2, theta=categories, fill = 'tonext', name='-std', fillcolor='red', opacity = 0.3, \n",
    "                        line=dict(color='red', dash='dash', width = 5),\n",
    "                        marker=dict(size=15)),\n",
    "    ],\n",
    "    layout=go.Layout(\n",
    "        title=go.layout.Title(text='0.08 mAcm-2'),\n",
    "        polar = dict(\n",
    "        radialaxis = dict(range=[0.35, 0.3], tick0=0.1, dtick=0.05, showticklabels=True, ticks='outside', tickfont=dict(size=46)),\n",
    "        angularaxis = dict(showticklabels=True, ticks='inside', tickfont=dict(size=66))\n",
    "    )\n",
    "    )\n",
    ")\n",
    "fig.update_polars(radialaxis_gridcolor=\"black\")\n",
    "fig.update_polars(angularaxis_gridcolor=\"black\")\n",
    "fig.update_polars(angularaxis_linecolor='black')\n",
    "fig.update_polars(radialaxis_linecolor='black')\n",
    "fig.update_polars(angularaxis_direction='clockwise')\n",
    "fig.update_polars(radialaxis_tickfont_family=\"Arial\")\n",
    "fig.update_polars(angularaxis_tickfont_family=\"Arial\")\n",
    "fig.update_polars(radialaxis_tickfont_color=\"black\")\n",
    "fig.update_polars(angularaxis_tickfont_color=\"black\")\n",
    "pyo.plot(fig)"
   ]
  },
  {
   "cell_type": "code",
   "execution_count": 110,
   "id": "20d99a08",
   "metadata": {},
   "outputs": [
    {
     "data": {
      "text/plain": [
       "'temp-plot.html'"
      ]
     },
     "execution_count": 110,
     "metadata": {},
     "output_type": "execute_result"
    }
   ],
   "source": [
    "categories = ['a', 'b', 'c', 'd', 'e', 'f', 'g', 'h', 'i', 'j']\n",
    "categories = [*categories, categories[0]]\n",
    "\n",
    "mean = [0.264331431,0.26536047,0.26130064,0.262917354,0.266572473,0.261281704,0.244333768,0.262913803,0.263680362,0.251697503,0.264331431]\n",
    "std1 = [0.265373273,0.272514936,0.262232546,0.264433622,0.26817211,0.263413958,0.2479679003,0.267073788,0.266165678,0.255508444,0.265373273]\n",
    "std2 = [0.263289588,0.258206004,0.260368734,0.261401086,0.264972836,0.25914945,0.2408988533,0.258753818,0.261195046,0.247886561,0.263289588]\n",
    "mean = [*mean, mean[0]]\n",
    "std1 = [*std1, std1[0]]\n",
    "std2 = [*std2, std2[0]]\n",
    "\n",
    "fig = go.Figure(\n",
    "    data=[\n",
    "        \n",
    "        go.Scatterpolar(r=std1, theta=categories, fill = 'toself', name='+std', fillcolor='red', opacity = 0.3, \n",
    "                        line=dict(color='red', dash='dash', width = 5),\n",
    "                        marker=dict(size=15)),\n",
    "        go.Scatterpolar(r=std2, theta=categories, fill = 'toself', name='-std', fillcolor='white', opacity = 0.9, \n",
    "                        line=dict(color='red', dash='dash', width = 5),\n",
    "                        marker=dict(size=15)),\n",
    "                                     \n",
    "        go.Scatterpolar(r=mean, theta=categories, fill = 'toself', name='Mean', fillcolor='white', opacity = 0.7,\n",
    "                        line=dict(color='blue', width = 10),\n",
    "                        marker=dict(size=20)),\n",
    "    ],\n",
    "    layout=go.Layout(\n",
    "        title=go.layout.Title(text='0.007 mAcm-2'),\n",
    "        polar = dict(\n",
    "        radialaxis = dict(range=[0.2, 0.3], tick0=0.1, dtick=0.05, showticklabels=True, ticks='outside', tickfont=dict(size=46)),\n",
    "        angularaxis = dict(showticklabels=True, ticks='inside', tickfont=dict(size=66))\n",
    "    )\n",
    "    )\n",
    ")\n",
    "fig.update_polars(radialaxis_gridcolor=\"black\")\n",
    "fig.update_polars(angularaxis_gridcolor=\"black\")\n",
    "fig.update_polars(angularaxis_linecolor='black')\n",
    "fig.update_polars(radialaxis_linecolor='black')\n",
    "fig.update_polars(angularaxis_direction='clockwise')\n",
    "fig.update_polars(radialaxis_tickfont_family=\"Arial\")\n",
    "fig.update_polars(angularaxis_tickfont_family=\"Arial\")\n",
    "fig.update_polars(radialaxis_tickfont_color=\"black\")\n",
    "fig.update_polars(angularaxis_tickfont_color=\"black\")\n",
    "pyo.plot(fig)"
   ]
  },
  {
   "cell_type": "code",
   "execution_count": 102,
   "id": "a9541754",
   "metadata": {},
   "outputs": [
    {
     "data": {
      "text/plain": [
       "'temp-plot.html'"
      ]
     },
     "execution_count": 102,
     "metadata": {},
     "output_type": "execute_result"
    }
   ],
   "source": [
    "categories = ['a', 'b', 'c', 'd', 'e', 'f', 'g', 'h', 'i', 'j']\n",
    "categories = [*categories, categories[0]]\n",
    "\n",
    "mean = [0.260646706,0.262642281,0.258288825,0.199678885,0.250647408,0.258277448,0.256222198,0.243129957,0.259831338,0.220203798,0.260646706]\n",
    "std1 = [0.261787944,0.270647516,0.259317813,0.26059095,0.27114131,0.260218334,0.264799678,0.274350013,0.26232606,0.270920291,0.261787944]\n",
    "std2 = [0.259505467,0.254637045,0.257259837,0.138766821,0.230153507,0.256336562,0.247644718,0.211909901,0.257336617,0.169487305,0.259505467]\n",
    "mean = [*mean, mean[0]]\n",
    "std1 = [*std1, std1[0]]\n",
    "std2 = [*std2, std2[0]]\n",
    "\n",
    "fig = go.Figure(\n",
    "    data=[\n",
    "        \n",
    "        go.Scatterpolar(r=std1, theta=categories, fill = 'toself', name='+std', fillcolor='red', opacity = 0.3, \n",
    "                        line=dict(color='red', dash='dash', width = 5),\n",
    "                        marker=dict(size=15)),\n",
    "        go.Scatterpolar(r=std2, theta=categories, fill = 'toself', name='-std', fillcolor='white', opacity = 0.9, \n",
    "                        line=dict(color='red', dash='dash', width = 5),\n",
    "                        marker=dict(size=15)),\n",
    "                                     \n",
    "        go.Scatterpolar(r=mean, theta=categories, fill = 'toself', name='Mean', fillcolor='white', opacity = 0.7,\n",
    "                        line=dict(color='blue', width = 10),\n",
    "                        marker=dict(size=20)),\n",
    "    ],\n",
    "    layout=go.Layout(\n",
    "        title=go.layout.Title(text='0.006 mAcm-2'),\n",
    "        polar = dict(\n",
    "        radialaxis = dict(range=[0.1, 0.3], tick0=0.1, dtick=0.05, showticklabels=True, ticks='outside', tickfont=dict(size=46)),\n",
    "        angularaxis = dict(showticklabels=True, ticks='inside', tickfont=dict(size=66))\n",
    "    )\n",
    "    )\n",
    ")\n",
    "fig.update_polars(radialaxis_gridcolor=\"black\")\n",
    "fig.update_polars(angularaxis_gridcolor=\"black\")\n",
    "fig.update_polars(angularaxis_linecolor='black')\n",
    "fig.update_polars(radialaxis_linecolor='black')\n",
    "fig.update_polars(angularaxis_direction='clockwise')\n",
    "fig.update_polars(radialaxis_tickfont_family=\"Arial\")\n",
    "fig.update_polars(angularaxis_tickfont_family=\"Arial\")\n",
    "fig.update_polars(radialaxis_tickfont_color=\"black\")\n",
    "fig.update_polars(angularaxis_tickfont_color=\"black\")\n",
    "pyo.plot(fig)"
   ]
  },
  {
   "cell_type": "code",
   "execution_count": 22,
   "id": "4a07029c",
   "metadata": {},
   "outputs": [
    {
     "name": "stdout",
     "output_type": "stream",
     "text": [
      "[1.0496536755, 1.0418024639999999, 0.9906940507499999, 1.05157588025, 1.0658180915, 1.0195252095, 1.068473811, 1.022255533, 1.02987132175, 1.0531392560000001]\n"
     ]
    }
   ],
   "source": [
    "def calculate_mean(avg):\n",
    "    mean = 1.23 - avg\n",
    "    return mean\n",
    "\n",
    "result = calculate_mean(ex_data)\n",
    "print(mean)"
   ]
  },
  {
   "cell_type": "code",
   "execution_count": null,
   "id": "f8190e6d",
   "metadata": {},
   "outputs": [],
   "source": [
    "ex_data = pd.read_csv('2.csv')\n",
    "mean_pd = ex_data.mean() \n",
    "avg, std, variance = [],[],[]\n",
    "\n",
    "for xi in ex_data:\n",
    "    avg.append(np.mean(ex_data[xi]))\n",
    "    std_value=np.std(ex_data[xi])\n",
    "    std.append(std_value)\n",
    "    variance.append(std_value**2)\n",
    "mean1=1.23-avg\n",
    "print(mean1)"
   ]
  }
 ],
 "metadata": {
  "kernelspec": {
   "display_name": "Python 3",
   "language": "python",
   "name": "python3"
  },
  "language_info": {
   "codemirror_mode": {
    "name": "ipython",
    "version": 3
   },
   "file_extension": ".py",
   "mimetype": "text/x-python",
   "name": "python",
   "nbconvert_exporter": "python",
   "pygments_lexer": "ipython3",
   "version": "3.8.8"
  }
 },
 "nbformat": 4,
 "nbformat_minor": 5
}
